{
 "cells": [
  {
   "cell_type": "markdown",
   "id": "6a1e54e4",
   "metadata": {},
   "source": [
    "## Phase 1: Data\n",
    "\n",
    "**Dataset Overview**\n",
    "- Size: 5,842 financial headlines\n",
    "- Columns: Sentence (text), Sentiment (3-class labels)\n",
    "- Quality: No missing values\n",
    "- Class distribution: Neutral (53.6%), Positive (31.7%), Negative (14.7%)"
   ]
  },
  {
   "cell_type": "markdown",
   "id": "7bfe39fd",
   "metadata": {},
   "source": [
    "### Sub-step 1: Dataset Loading & Initial Inspection"
   ]
  },
  {
   "cell_type": "code",
   "execution_count": 90,
   "id": "5cd9729c",
   "metadata": {},
   "outputs": [],
   "source": [
    "import pandas as pd\n",
    "import matplotlib.pyplot as plt"
   ]
  },
  {
   "cell_type": "code",
   "execution_count": 91,
   "id": "dac9eabf",
   "metadata": {},
   "outputs": [
    {
     "data": {
      "text/html": [
       "<div>\n",
       "<style scoped>\n",
       "    .dataframe tbody tr th:only-of-type {\n",
       "        vertical-align: middle;\n",
       "    }\n",
       "\n",
       "    .dataframe tbody tr th {\n",
       "        vertical-align: top;\n",
       "    }\n",
       "\n",
       "    .dataframe thead th {\n",
       "        text-align: right;\n",
       "    }\n",
       "</style>\n",
       "<table border=\"1\" class=\"dataframe\">\n",
       "  <thead>\n",
       "    <tr style=\"text-align: right;\">\n",
       "      <th></th>\n",
       "      <th>Sentence</th>\n",
       "      <th>Sentiment</th>\n",
       "    </tr>\n",
       "  </thead>\n",
       "  <tbody>\n",
       "    <tr>\n",
       "      <th>0</th>\n",
       "      <td>The GeoSolutions technology will leverage Bene...</td>\n",
       "      <td>positive</td>\n",
       "    </tr>\n",
       "    <tr>\n",
       "      <th>1</th>\n",
       "      <td>$ESI on lows, down $1.50 to $2.50 BK a real po...</td>\n",
       "      <td>negative</td>\n",
       "    </tr>\n",
       "    <tr>\n",
       "      <th>2</th>\n",
       "      <td>For the last quarter of 2010 , Componenta 's n...</td>\n",
       "      <td>positive</td>\n",
       "    </tr>\n",
       "    <tr>\n",
       "      <th>3</th>\n",
       "      <td>According to the Finnish-Russian Chamber of Co...</td>\n",
       "      <td>neutral</td>\n",
       "    </tr>\n",
       "    <tr>\n",
       "      <th>4</th>\n",
       "      <td>The Swedish buyout firm has sold its remaining...</td>\n",
       "      <td>neutral</td>\n",
       "    </tr>\n",
       "  </tbody>\n",
       "</table>\n",
       "</div>"
      ],
      "text/plain": [
       "                                            Sentence Sentiment\n",
       "0  The GeoSolutions technology will leverage Bene...  positive\n",
       "1  $ESI on lows, down $1.50 to $2.50 BK a real po...  negative\n",
       "2  For the last quarter of 2010 , Componenta 's n...  positive\n",
       "3  According to the Finnish-Russian Chamber of Co...   neutral\n",
       "4  The Swedish buyout firm has sold its remaining...   neutral"
      ]
     },
     "execution_count": 91,
     "metadata": {},
     "output_type": "execute_result"
    }
   ],
   "source": [
    "df = pd.read_csv('../data/data.csv')\n",
    "df.head()"
   ]
  },
  {
   "cell_type": "markdown",
   "id": "98af2c0d",
   "metadata": {},
   "source": [
    "### Dataset Structure\n",
    "The data contains two columns:\n",
    "- **Sentence:** Financial headlines/sentences\n",
    "- **Sentiment:** Three-class labels (positive, neutral, negative)"
   ]
  },
  {
   "cell_type": "code",
   "execution_count": 92,
   "id": "6db56a92",
   "metadata": {},
   "outputs": [
    {
     "data": {
      "text/plain": [
       "Sentence     0\n",
       "Sentiment    0\n",
       "dtype: int64"
      ]
     },
     "execution_count": 92,
     "metadata": {},
     "output_type": "execute_result"
    }
   ],
   "source": [
    "df.isnull().sum()"
   ]
  },
  {
   "cell_type": "markdown",
   "id": "6f51bdc2",
   "metadata": {},
   "source": [
    "### Data Quality Check\n",
    "No missing values found."
   ]
  },
  {
   "cell_type": "code",
   "execution_count": 93,
   "id": "69efbb22",
   "metadata": {},
   "outputs": [
    {
     "data": {
      "text/plain": [
       "(5842, 2)"
      ]
     },
     "execution_count": 93,
     "metadata": {},
     "output_type": "execute_result"
    }
   ],
   "source": [
    "df.shape"
   ]
  },
  {
   "cell_type": "markdown",
   "id": "1dbd574f",
   "metadata": {},
   "source": [
    "### Dataset Size\n",
    "- **Total samples:** 5,842 financial headlines"
   ]
  },
  {
   "cell_type": "code",
   "execution_count": 94,
   "id": "9219b1de",
   "metadata": {},
   "outputs": [
    {
     "data": {
      "image/png": "[encoded data removed]",
      "text/plain": [
       "<Figure size 640x480 with 1 Axes>"
      ]
     },
     "metadata": {},
     "output_type": "display_data"
    }
   ],
   "source": [
    "colors = ['#929292', '#3EE563', '#D53838']\n",
    "df['Sentiment'].value_counts(normalize=True).plot(\n",
    "    kind='pie',\n",
    "    colors=colors,\n",
    "    autopct='%1.1f%%'\n",
    ")\n",
    "plt.title('Class Distribution')\n",
    "plt.ylabel('')\n",
    "plt.show()"
   ]
  },
  {
   "cell_type": "markdown",
   "id": "caf4e46d",
   "metadata": {},
   "source": [
    "There are twice as many **positive** than **negative** sentences. More than half the sentences are **neutral**."
   ]
  },
  {
   "cell_type": "code",
   "execution_count": 95,
   "id": "dc82424a",
   "metadata": {},
   "outputs": [
    {
     "data": {
      "image/png": "[encoded data removed]",
      "text/plain": [
       "<Figure size 640x480 with 1 Axes>"
      ]
     },
     "metadata": {},
     "output_type": "display_data"
    }
   ],
   "source": [
    "df['Sentence'].str.len().describe()\n",
    "plt.hist(df['Sentence'].str.len(), bins=30)\n",
    "plt.title('Sentence Length Distribution')\n",
    "plt.xlabel('Character Count')\n",
    "plt.ylabel('Frequency')\n",
    "plt.show()"
   ]
  },
  {
   "cell_type": "markdown",
   "id": "2fc818f0",
   "metadata": {},
   "source": [
    "**Average** sentence length is *117* characters. **Max** is *315*, **min** is *9*."
   ]
  },
  {
   "cell_type": "markdown",
   "id": "7a064816",
   "metadata": {},
   "source": [
    "## Train/Test Splits"
   ]
  },
  {
   "cell_type": "code",
   "execution_count": 96,
   "id": "e20398dc",
   "metadata": {},
   "outputs": [],
   "source": [
    "from sklearn.model_selection import train_test_split\n",
    "\n",
    "# Created stratified train/validation/test splits (70/15/15)\n",
    "train_df, temp_df = train_test_split(\n",
    "    df, \n",
    "    test_size=0.3,\n",
    "    stratify=df['Sentiment'],\n",
    "    random_state=42\n",
    ")\n",
    "\n",
    "val_df, test_df = train_test_split(\n",
    "    temp_df, \n",
    "    test_size=0.5,\n",
    "    stratify=temp_df['Sentiment'],\n",
    "    random_state=42\n",
    ")"
   ]
  },
  {
   "cell_type": "code",
   "execution_count": 97,
   "id": "927faf3b",
   "metadata": {},
   "outputs": [
    {
     "name": "stdout",
     "output_type": "stream",
     "text": [
      "Original: 5842\n",
      "Train: 4089\n",
      "Validation: 876\n",
      "Test: 877\n",
      "\n",
      "Class distribution:\n",
      "Train: Sentiment\n",
      "neutral     0.535828\n",
      "positive    0.316948\n",
      "negative    0.147224\n",
      "Name: proportion, dtype: float64\n",
      "Val: Sentiment\n",
      "neutral     0.535388\n",
      "positive    0.317352\n",
      "negative    0.147260\n",
      "Name: proportion, dtype: float64\n",
      "Test: Sentiment\n",
      "neutral     0.535918\n",
      "positive    0.316990\n",
      "negative    0.147092\n",
      "Name: proportion, dtype: float64\n"
     ]
    }
   ],
   "source": [
    "# Check split sizes\n",
    "print(\"Original:\", len(df))\n",
    "print(\"Train:\", len(train_df))\n",
    "print(\"Validation:\", len(val_df))\n",
    "print(\"Test:\", len(test_df))\n",
    "\n",
    "# Check class distribution in each split\n",
    "print(\"\\nClass distribution:\")\n",
    "print(\"Train:\", train_df['Sentiment'].value_counts(normalize=True))\n",
    "print(\"Val:\", val_df['Sentiment'].value_counts(normalize=True))\n",
    "print(\"Test:\", test_df['Sentiment'].value_counts(normalize=True))"
   ]
  },
  {
   "cell_type": "code",
   "execution_count": 98,
   "id": "b23042a5",
   "metadata": {},
   "outputs": [],
   "source": [
    "# Save splits for later use\n",
    "train_df.to_csv('../data/train.csv', index=False)\n",
    "val_df.to_csv('../data/val.csv', index=False)\n",
    "test_df.to_csv('../data/test.csv', index=False)"
   ]
  },
  {
   "cell_type": "code",
   "execution_count": 99,
   "id": "f3fb3732",
   "metadata": {},
   "outputs": [
    {
     "name": "stdout",
     "output_type": "stream",
     "text": [
      "=== REPRESENTATIVE EXAMPLES ===\n",
      "\n",
      "POSITIVE examples:\n",
      "1. Stora Enso owns 43 percent of Bergvik and earns therefore SEK 1.5 bn on the value appreciation ....\n",
      "2. Finnish IT solutions provider Affecto Oyj said today that it has won a frame contract , valued at so...\n",
      "3. The stock rose for a second day on Wednesday bringing its two-day rise to GBX12 .0 or 2.0 % ....\n",
      "\n",
      "NEUTRAL examples:\n",
      "1. The company serves customers in various industries , including process and resources , industrial ma...\n",
      "2. The company reported net sales of EUR550m in 2005 and had some 3,200 employees ....\n",
      "3. It offers advanced machinery maintenance and process development services to the pulp and paper indu...\n",
      "\n",
      "NEGATIVE examples:\n",
      "1. $AAPL weekly still under the 50 moving average and creating a lower high. https://t.co/vT7ppzY2UY...\n",
      "2. The current reference grade instruments are challenging to operate due to their high price and compl...\n",
      "3. Earnings per share ( EPS ) in 2005 decreased to EUR1 .87 from EUR1 .89 in 2003 ....\n"
     ]
    }
   ],
   "source": [
    "print(\"=== REPRESENTATIVE EXAMPLES ===\")\n",
    "for sentiment in ['positive', 'neutral', 'negative']:\n",
    "    print(f\"\\n{sentiment.upper()} examples:\")\n",
    "    examples = df[df['Sentiment'] == sentiment].sample(3)\n",
    "    for i, (_, row) in enumerate(examples.iterrows(), 1):\n",
    "        print(f\"{i}. {row['Sentence'][:100]}...\")"
   ]
  },
  {
   "cell_type": "markdown",
   "id": "9b6d5f60",
   "metadata": {},
   "source": [
    "## Preprocessing Pipeline\n",
    "\n",
    "### Text Cleaning\n",
    "- Convert to lowercase\n",
    "- Handle punctuation and special characters\n",
    "- Remove extra whitespace\n",
    "\n",
    "### Tokenization Strategy\n",
    "- **TF-IDF baseline:** Word-based tokenization\n",
    "- **FinBERT:** Subword tokenization (handled by model)\n",
    "\n",
    "### Feature Extraction\n",
    "- **TF-IDF:** Term frequency-inverse document frequency vectors\n",
    "- **FinBERT:** Pre-trained embeddings + fine-tuning"
   ]
  },
  {
   "cell_type": "markdown",
   "id": "2407a5d3",
   "metadata": {},
   "source": [
    "## Baseline Models\n"
   ]
  },
  {
   "cell_type": "code",
   "execution_count": 100,
   "id": "0beaa4f5",
   "metadata": {},
   "outputs": [],
   "source": [
    "from sklearn.feature_extraction.text import TfidfVectorizer\n",
    "from sklearn.linear_model import LogisticRegression\n",
    "from sklearn.ensemble import RandomForestClassifier\n",
    "from sklearn.svm import SVC\n",
    "from sklearn.naive_bayes import MultinomialNB\n",
    "from sklearn.ensemble import GradientBoostingClassifier\n",
    "from sklearn.svm import LinearSVC\n",
    "from sklearn.tree import DecisionTreeClassifier\n",
    "from sklearn.metrics import classification_report, confusion_matrix\n",
    "import numpy as np\n"
   ]
  },
  {
   "cell_type": "markdown",
   "id": "9897893a",
   "metadata": {},
   "source": [
    "### Baseline Model Setup\n",
    "\n",
    "In this section, we will:\n",
    "- Load the train, validation, and test splits.\n",
    "- Extract features using TF-IDF vectorization.\n",
    "- Define a set of baseline classifiers for comparison.\n",
    "This provides a reference point for evaluating more advanced models like FinBERT.\n"
   ]
  },
  {
   "cell_type": "code",
   "execution_count": 101,
   "id": "47534125",
   "metadata": {},
   "outputs": [
    {
     "name": "stdout",
     "output_type": "stream",
     "text": [
      "Train: (4089, 2)\n",
      "Validation: (876, 2)\n",
      "Test: (877, 2)\n"
     ]
    }
   ],
   "source": [
    "train_df = pd.read_csv('../data/train.csv')\n",
    "val_df = pd.read_csv('../data/val.csv')\n",
    "test_df = pd.read_csv('../data/test.csv')\n",
    "\n",
    "print(\"Train:\", train_df.shape)\n",
    "print(\"Validation:\", val_df.shape)\n",
    "print(\"Test:\", test_df.shape)\n",
    "\n",
    "\n",
    "# Extract features and labels\n",
    "X_train = train_df['Sentence']\n",
    "y_train = train_df['Sentiment']\n",
    "X_val = val_df['Sentence']\n",
    "y_val = val_df['Sentiment']\n",
    "X_test = test_df['Sentence']\n",
    "y_test = test_df['Sentiment']"
   ]
  },
  {
   "cell_type": "code",
   "execution_count": 102,
   "id": "15f83063",
   "metadata": {},
   "outputs": [
    {
     "name": "stdout",
     "output_type": "stream",
     "text": [
      "Train TF-IDF shape: (4089, 5000)\n",
      "Val TF-IDF shape: (876, 5000)\n",
      "Test TF-IDF shape: (877, 5000)\n"
     ]
    }
   ],
   "source": [
    "vectorizer = TfidfVectorizer(\n",
    "    max_features=5000,\n",
    "    lowercase=True,\n",
    "    stop_words='english',\n",
    "    token_pattern=r'\\b\\w+\\b',  # Only word characters\n",
    "    strip_accents='unicode'     # Remove accents\n",
    ")\n",
    "X_train_tfidf = vectorizer.fit_transform(X_train)\n",
    "X_val_tfidf = vectorizer.transform(X_val)\n",
    "X_test_tfidf = vectorizer.transform(X_test)\n",
    "\n",
    "print(\"Train TF-IDF shape:\", X_train_tfidf.shape)\n",
    "print(\"Val TF-IDF shape:\", X_val_tfidf.shape)\n",
    "print(\"Test TF-IDF shape:\", X_test_tfidf.shape)"
   ]
  },
  {
   "cell_type": "code",
   "execution_count": 103,
   "id": "12f6754b",
   "metadata": {},
   "outputs": [],
   "source": [
    "models = {\n",
    "    'Logistic Regression': LogisticRegression(random_state=42, class_weight='balanced'),\n",
    "    'Random Forest': RandomForestClassifier(random_state=42, class_weight='balanced'),\n",
    "    'SVM': SVC(random_state=42, class_weight='balanced'),\n",
    "    'Linear SVM': LinearSVC(random_state=42, class_weight='balanced'),\n",
    "    'Naive Bayes': MultinomialNB(),\n",
    "    'Gradient Boosting': GradientBoostingClassifier(random_state=42),\n",
    "    'Decision Tree': DecisionTreeClassifier(random_state=42, class_weight='balanced')\n",
    "}"
   ]
  },
  {
   "cell_type": "code",
   "execution_count": 104,
   "id": "28396918",
   "metadata": {},
   "outputs": [
    {
     "name": "stdout",
     "output_type": "stream",
     "text": [
      "Training Logistic Regression...\n",
      "✓ Logistic Regression trained successfully\n",
      "Training Random Forest...\n",
      "✓ Random Forest trained successfully\n",
      "Training SVM...\n",
      "✓ SVM trained successfully\n",
      "Training Linear SVM...\n",
      "✓ Linear SVM trained successfully\n",
      "Training Naive Bayes...\n",
      "✓ Naive Bayes trained successfully\n",
      "Training Gradient Boosting...\n",
      "✓ Gradient Boosting trained successfully\n",
      "Training Decision Tree...\n",
      "✓ Decision Tree trained successfully\n"
     ]
    }
   ],
   "source": [
    "trained_models = {}\n",
    "for name, model in models.items():\n",
    "    print(f\"Training {name}...\")\n",
    "    model.fit(X_train_tfidf, y_train)\n",
    "    trained_models[name] = model\n",
    "    print(f\"✓ {name} trained successfully\")"
   ]
  },
  {
   "cell_type": "code",
   "execution_count": 105,
   "id": "ef536e37",
   "metadata": {},
   "outputs": [
    {
     "name": "stdout",
     "output_type": "stream",
     "text": [
      "✓ Logistic Regression predictions completed\n",
      "✓ Random Forest predictions completed\n",
      "✓ SVM predictions completed\n",
      "✓ Linear SVM predictions completed\n",
      "✓ Naive Bayes predictions completed\n",
      "✓ Gradient Boosting predictions completed\n",
      "✓ Decision Tree predictions completed\n"
     ]
    }
   ],
   "source": [
    "predictions = {}\n",
    "for name, model in trained_models.items():\n",
    "    predictions[name] = model.predict(X_val_tfidf)\n",
    "    print(f\"✓ {name} predictions completed\")"
   ]
  },
  {
   "cell_type": "code",
   "execution_count": 106,
   "id": "96055b7e",
   "metadata": {},
   "outputs": [
    {
     "name": "stdout",
     "output_type": "stream",
     "text": [
      "Logistic Regression Accuracy: 0.683\n",
      "Random Forest Accuracy: 0.653\n",
      "SVM Accuracy: 0.682\n",
      "Linear SVM Accuracy: 0.655\n",
      "Naive Bayes Accuracy: 0.697\n",
      "Gradient Boosting Accuracy: 0.674\n",
      "Decision Tree Accuracy: 0.562\n",
      "\n",
      "🏆 Best model: Naive Bayes (0.697)\n"
     ]
    }
   ],
   "source": [
    "from sklearn.metrics import accuracy_score\n",
    "\n",
    "# Compare accuracy across all models\n",
    "results = {}\n",
    "for name, pred in predictions.items():\n",
    "    accuracy = accuracy_score(y_val, pred)\n",
    "    results[name] = accuracy\n",
    "    print(f\"{name} Accuracy: {accuracy:.3f}\")\n",
    "\n",
    "# Find best model\n",
    "best_model = max(results, key=lambda k: results[k])      # or key=results.__getitem__\n",
    "print(f\"\\n🏆 Best model: {best_model} ({results[best_model]:.3f})\")"
   ]
  },
  {
   "cell_type": "code",
   "execution_count": 107,
   "id": "1e75485b",
   "metadata": {},
   "outputs": [
    {
     "name": "stdout",
     "output_type": "stream",
     "text": [
      "Classification Report - Naive Bayes:\n",
      "              precision    recall  f1-score   support\n",
      "\n",
      "    negative       0.83      0.04      0.07       129\n",
      "     neutral       0.67      0.98      0.80       469\n",
      "    positive       0.77      0.53      0.63       278\n",
      "\n",
      "    accuracy                           0.70       876\n",
      "   macro avg       0.76      0.52      0.50       876\n",
      "weighted avg       0.73      0.70      0.64       876\n",
      "\n"
     ]
    }
   ],
   "source": [
    "# Detailed report for best model\n",
    "print(f\"Classification Report - {best_model}:\")\n",
    "print(classification_report(y_val, predictions[best_model]))"
   ]
  },
  {
   "cell_type": "code",
   "execution_count": 108,
   "id": "e16d7969",
   "metadata": {},
   "outputs": [
    {
     "data": {
      "image/png": "[encoded data removed]",
      "text/plain": [
       "<Figure size 800x600 with 2 Axes>"
      ]
     },
     "metadata": {},
     "output_type": "display_data"
    }
   ],
   "source": [
    "import seaborn as sns\n",
    "\n",
    "# Create confusion matrix for best model\n",
    "cm = confusion_matrix(y_val, predictions[best_model])\n",
    "\n",
    "plt.figure(figsize=(8, 6))\n",
    "sns.heatmap(cm, annot=True, fmt='d', cmap='Blues')\n",
    "plt.title(f'Confusion Matrix - {best_model}')\n",
    "plt.ylabel('True Label')\n",
    "plt.xlabel('Predicted Label')\n",
    "plt.show()"
   ]
  },
  {
   "cell_type": "code",
   "execution_count": 109,
   "id": "d91f7f02",
   "metadata": {},
   "outputs": [
    {
     "name": "stdout",
     "output_type": "stream",
     "text": [
      "=== MODEL PERFORMANCE COMPARISON ===\n",
      "              Model  Accuracy\n",
      "        Naive Bayes  0.697489\n",
      "Logistic Regression  0.682648\n",
      "                SVM  0.681507\n",
      "  Gradient Boosting  0.673516\n",
      "         Linear SVM  0.655251\n",
      "      Random Forest  0.652968\n",
      "      Decision Tree  0.561644\n"
     ]
    }
   ],
   "source": [
    "# Create performance comparison table\n",
    "import pandas as pd\n",
    "\n",
    "performance_df = pd.DataFrame({\n",
    "    'Model': list(results.keys()),\n",
    "    'Accuracy': list(results.values())\n",
    "}).sort_values('Accuracy', ascending=False)\n",
    "\n",
    "print(\"=== MODEL PERFORMANCE COMPARISON ===\")\n",
    "print(performance_df.to_string(index=False))"
   ]
  },
  {
   "cell_type": "code",
   "execution_count": 110,
   "id": "f0461e2c",
   "metadata": {},
   "outputs": [
    {
     "data": {
      "image/png": "[encoded data removed]",
      "text/plain": [
       "<Figure size 1000x600 with 1 Axes>"
      ]
     },
     "metadata": {},
     "output_type": "display_data"
    }
   ],
   "source": [
    "# Bar chart of model accuracies\n",
    "plt.figure(figsize=(10, 6))\n",
    "models_list = list(results.keys())\n",
    "accuracies = list(results.values())\n",
    "colors = ['#ff6b6b' if acc < 0.65 else '#4ecdc4' if acc < 0.70 else '#45b7d1' for acc in accuracies]\n",
    "\n",
    "plt.bar(models_list, accuracies, color=colors)\n",
    "plt.title('Model Accuracy Comparison', fontsize=14, fontweight='bold')\n",
    "plt.xlabel('Models')\n",
    "plt.ylabel('Accuracy')\n",
    "plt.xticks(rotation=45, ha='right')\n",
    "plt.ylim(0.5, 0.75)\n",
    "plt.grid(axis='y', alpha=0.3)\n",
    "\n",
    "# Add value labels on bars\n",
    "for i, v in enumerate(accuracies):\n",
    "    plt.text(i, v + 0.01, f'{v:.3f}', ha='center', fontweight='bold')\n",
    "\n",
    "plt.tight_layout()\n",
    "plt.show()"
   ]
  },
  {
   "cell_type": "markdown",
   "id": "18bb3b4b",
   "metadata": {},
   "source": [
    "### NEXT STEPS\n",
    "\n",
    "1. **Move to FinBERT for improved performance**\n",
    "2. **Focus on negative class recall improvement**\n",
    "3. **Consider data augmentation for negative class**\n",
    "4. **Test on held-out test set**"
   ]
  }
 ],
 "metadata": {
  "kernelspec": {
   "display_name": "Python 3",
   "language": "python",
   "name": "python3"
  },
  "language_info": {
   "codemirror_mode": {
    "name": "ipython",
    "version": 3
   },
   "file_extension": ".py",
   "mimetype": "text/x-python",
   "name": "python",
   "nbconvert_exporter": "python",
   "pygments_lexer": "ipython3",
   "version": "3.13.3"
  }
 },
 "nbformat": 4,
 "nbformat_minor": 5
}
