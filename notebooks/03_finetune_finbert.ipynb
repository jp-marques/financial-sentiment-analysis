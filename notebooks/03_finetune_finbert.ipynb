{
 "cells": [
  {
   "cell_type": "markdown",
   "id": "0b1e976d",
   "metadata": {},
   "source": [
    "# Phase 3: FinBERT Fine-tuning"
   ]
  },
  {
   "cell_type": "markdown",
   "id": "2cac1ed6",
   "metadata": {},
   "source": [
    "### 1. Setup & Data Preparation"
   ]
  },
  {
   "cell_type": "markdown",
   "id": "e9cb9695",
   "metadata": {},
   "source": [
    "##### 1.1 Install Libraries"
   ]
  },
  {
   "cell_type": "code",
   "execution_count": 8,
   "id": "d9154bc0",
   "metadata": {},
   "outputs": [
    {
     "name": "stdout",
     "output_type": "stream",
     "text": [
      "Defaulting to user installation because normal site-packages is not writeable\n",
      "Requirement already satisfied: transformers in c:\\users\\jp\\appdata\\roaming\\python\\python313\\site-packages (4.55.4)\n",
      "Requirement already satisfied: filelock in c:\\users\\jp\\appdata\\roaming\\python\\python313\\site-packages (from transformers) (3.19.1)\n",
      "Requirement already satisfied: huggingface-hub<1.0,>=0.34.0 in c:\\users\\jp\\appdata\\roaming\\python\\python313\\site-packages (from transformers) (0.34.4)\n",
      "Requirement already satisfied: numpy>=1.17 in c:\\users\\jp\\appdata\\roaming\\python\\python313\\site-packages (from transformers) (2.2.6)\n",
      "Requirement already satisfied: packaging>=20.0 in c:\\users\\jp\\appdata\\roaming\\python\\python313\\site-packages (from transformers) (25.0)\n",
      "Requirement already satisfied: pyyaml>=5.1 in c:\\users\\jp\\appdata\\roaming\\python\\python313\\site-packages (from transformers) (6.0.2)\n",
      "Requirement already satisfied: regex!=2019.12.17 in c:\\users\\jp\\appdata\\roaming\\python\\python313\\site-packages (from transformers) (2025.7.34)\n",
      "Requirement already satisfied: requests in c:\\users\\jp\\appdata\\roaming\\python\\python313\\site-packages (from transformers) (2.32.3)\n",
      "Requirement already satisfied: tokenizers<0.22,>=0.21 in c:\\users\\jp\\appdata\\roaming\\python\\python313\\site-packages (from transformers) (0.21.4)\n",
      "Requirement already satisfied: safetensors>=0.4.3 in c:\\users\\jp\\appdata\\roaming\\python\\python313\\site-packages (from transformers) (0.6.2)\n",
      "Requirement already satisfied: tqdm>=4.27 in c:\\users\\jp\\appdata\\roaming\\python\\python313\\site-packages (from transformers) (4.67.1)\n",
      "Requirement already satisfied: fsspec>=2023.5.0 in c:\\users\\jp\\appdata\\roaming\\python\\python313\\site-packages (from huggingface-hub<1.0,>=0.34.0->transformers) (2025.3.0)\n",
      "Requirement already satisfied: typing-extensions>=3.7.4.3 in c:\\users\\jp\\appdata\\roaming\\python\\python313\\site-packages (from huggingface-hub<1.0,>=0.34.0->transformers) (4.13.2)\n",
      "Requirement already satisfied: colorama in c:\\users\\jp\\appdata\\roaming\\python\\python313\\site-packages (from tqdm>=4.27->transformers) (0.4.6)\n",
      "Requirement already satisfied: charset-normalizer<4,>=2 in c:\\users\\jp\\appdata\\roaming\\python\\python313\\site-packages (from requests->transformers) (3.4.2)\n",
      "Requirement already satisfied: idna<4,>=2.5 in c:\\users\\jp\\appdata\\roaming\\python\\python313\\site-packages (from requests->transformers) (3.10)\n",
      "Requirement already satisfied: urllib3<3,>=1.21.1 in c:\\users\\jp\\appdata\\roaming\\python\\python313\\site-packages (from requests->transformers) (2.4.0)\n",
      "Requirement already satisfied: certifi>=2017.4.17 in c:\\users\\jp\\appdata\\roaming\\python\\python313\\site-packages (from requests->transformers) (2025.4.26)\n",
      "Defaulting to user installation because normal site-packages is not writeable\n",
      "Requirement already satisfied: torch in c:\\users\\jp\\appdata\\roaming\\python\\python313\\site-packages (2.7.1+cu118)\n",
      "Requirement already satisfied: filelock in c:\\users\\jp\\appdata\\roaming\\python\\python313\\site-packages (from torch) (3.19.1)\n",
      "Requirement already satisfied: typing-extensions>=4.10.0 in c:\\users\\jp\\appdata\\roaming\\python\\python313\\site-packages (from torch) (4.13.2)\n",
      "Requirement already satisfied: sympy>=1.13.3 in c:\\users\\jp\\appdata\\roaming\\python\\python313\\site-packages (from torch) (1.14.0)\n",
      "Requirement already satisfied: networkx in c:\\users\\jp\\appdata\\roaming\\python\\python313\\site-packages (from torch) (3.5)\n",
      "Requirement already satisfied: jinja2 in c:\\users\\jp\\appdata\\roaming\\python\\python313\\site-packages (from torch) (3.1.6)\n",
      "Requirement already satisfied: fsspec in c:\\users\\jp\\appdata\\roaming\\python\\python313\\site-packages (from torch) (2025.3.0)\n",
      "Requirement already satisfied: setuptools in c:\\users\\jp\\appdata\\roaming\\python\\python313\\site-packages (from torch) (80.9.0)\n",
      "Requirement already satisfied: mpmath<1.4,>=1.1.0 in c:\\users\\jp\\appdata\\roaming\\python\\python313\\site-packages (from sympy>=1.13.3->torch) (1.3.0)\n",
      "Requirement already satisfied: MarkupSafe>=2.0 in c:\\users\\jp\\appdata\\roaming\\python\\python313\\site-packages (from jinja2->torch) (3.0.2)\n",
      "Defaulting to user installation because normal site-packages is not writeable\n",
      "Requirement already satisfied: datasets in c:\\users\\jp\\appdata\\roaming\\python\\python313\\site-packages (4.0.0)\n",
      "Requirement already satisfied: filelock in c:\\users\\jp\\appdata\\roaming\\python\\python313\\site-packages (from datasets) (3.19.1)\n",
      "Requirement already satisfied: numpy>=1.17 in c:\\users\\jp\\appdata\\roaming\\python\\python313\\site-packages (from datasets) (2.2.6)\n",
      "Requirement already satisfied: pyarrow>=15.0.0 in c:\\users\\jp\\appdata\\roaming\\python\\python313\\site-packages (from datasets) (21.0.0)\n",
      "Requirement already satisfied: dill<0.3.9,>=0.3.0 in c:\\users\\jp\\appdata\\roaming\\python\\python313\\site-packages (from datasets) (0.3.8)\n",
      "Requirement already satisfied: pandas in c:\\users\\jp\\appdata\\roaming\\python\\python313\\site-packages (from datasets) (2.3.2)\n",
      "Requirement already satisfied: requests>=2.32.2 in c:\\users\\jp\\appdata\\roaming\\python\\python313\\site-packages (from datasets) (2.32.3)\n",
      "Requirement already satisfied: tqdm>=4.66.3 in c:\\users\\jp\\appdata\\roaming\\python\\python313\\site-packages (from datasets) (4.67.1)\n",
      "Requirement already satisfied: xxhash in c:\\users\\jp\\appdata\\roaming\\python\\python313\\site-packages (from datasets) (3.5.0)\n",
      "Requirement already satisfied: multiprocess<0.70.17 in c:\\users\\jp\\appdata\\roaming\\python\\python313\\site-packages (from datasets) (0.70.16)\n",
      "Requirement already satisfied: fsspec<=2025.3.0,>=2023.1.0 in c:\\users\\jp\\appdata\\roaming\\python\\python313\\site-packages (from fsspec[http]<=2025.3.0,>=2023.1.0->datasets) (2025.3.0)\n",
      "Requirement already satisfied: huggingface-hub>=0.24.0 in c:\\users\\jp\\appdata\\roaming\\python\\python313\\site-packages (from datasets) (0.34.4)\n",
      "Requirement already satisfied: packaging in c:\\users\\jp\\appdata\\roaming\\python\\python313\\site-packages (from datasets) (25.0)\n",
      "Requirement already satisfied: pyyaml>=5.1 in c:\\users\\jp\\appdata\\roaming\\python\\python313\\site-packages (from datasets) (6.0.2)\n",
      "Requirement already satisfied: aiohttp!=4.0.0a0,!=4.0.0a1 in c:\\users\\jp\\appdata\\roaming\\python\\python313\\site-packages (from fsspec[http]<=2025.3.0,>=2023.1.0->datasets) (3.12.15)\n",
      "Requirement already satisfied: aiohappyeyeballs>=2.5.0 in c:\\users\\jp\\appdata\\roaming\\python\\python313\\site-packages (from aiohttp!=4.0.0a0,!=4.0.0a1->fsspec[http]<=2025.3.0,>=2023.1.0->datasets) (2.6.1)\n",
      "Requirement already satisfied: aiosignal>=1.4.0 in c:\\users\\jp\\appdata\\roaming\\python\\python313\\site-packages (from aiohttp!=4.0.0a0,!=4.0.0a1->fsspec[http]<=2025.3.0,>=2023.1.0->datasets) (1.4.0)\n",
      "Requirement already satisfied: attrs>=17.3.0 in c:\\users\\jp\\appdata\\roaming\\python\\python313\\site-packages (from aiohttp!=4.0.0a0,!=4.0.0a1->fsspec[http]<=2025.3.0,>=2023.1.0->datasets) (25.3.0)\n",
      "Requirement already satisfied: frozenlist>=1.1.1 in c:\\users\\jp\\appdata\\roaming\\python\\python313\\site-packages (from aiohttp!=4.0.0a0,!=4.0.0a1->fsspec[http]<=2025.3.0,>=2023.1.0->datasets) (1.7.0)\n",
      "Requirement already satisfied: multidict<7.0,>=4.5 in c:\\users\\jp\\appdata\\roaming\\python\\python313\\site-packages (from aiohttp!=4.0.0a0,!=4.0.0a1->fsspec[http]<=2025.3.0,>=2023.1.0->datasets) (6.6.4)\n",
      "Requirement already satisfied: propcache>=0.2.0 in c:\\users\\jp\\appdata\\roaming\\python\\python313\\site-packages (from aiohttp!=4.0.0a0,!=4.0.0a1->fsspec[http]<=2025.3.0,>=2023.1.0->datasets) (0.3.2)\n",
      "Requirement already satisfied: yarl<2.0,>=1.17.0 in c:\\users\\jp\\appdata\\roaming\\python\\python313\\site-packages (from aiohttp!=4.0.0a0,!=4.0.0a1->fsspec[http]<=2025.3.0,>=2023.1.0->datasets) (1.20.1)\n",
      "Requirement already satisfied: idna>=2.0 in c:\\users\\jp\\appdata\\roaming\\python\\python313\\site-packages (from yarl<2.0,>=1.17.0->aiohttp!=4.0.0a0,!=4.0.0a1->fsspec[http]<=2025.3.0,>=2023.1.0->datasets) (3.10)\n",
      "Requirement already satisfied: typing-extensions>=3.7.4.3 in c:\\users\\jp\\appdata\\roaming\\python\\python313\\site-packages (from huggingface-hub>=0.24.0->datasets) (4.13.2)\n",
      "Requirement already satisfied: charset-normalizer<4,>=2 in c:\\users\\jp\\appdata\\roaming\\python\\python313\\site-packages (from requests>=2.32.2->datasets) (3.4.2)\n",
      "Requirement already satisfied: urllib3<3,>=1.21.1 in c:\\users\\jp\\appdata\\roaming\\python\\python313\\site-packages (from requests>=2.32.2->datasets) (2.4.0)\n",
      "Requirement already satisfied: certifi>=2017.4.17 in c:\\users\\jp\\appdata\\roaming\\python\\python313\\site-packages (from requests>=2.32.2->datasets) (2025.4.26)\n",
      "Requirement already satisfied: colorama in c:\\users\\jp\\appdata\\roaming\\python\\python313\\site-packages (from tqdm>=4.66.3->datasets) (0.4.6)\n",
      "Requirement already satisfied: python-dateutil>=2.8.2 in c:\\users\\jp\\appdata\\roaming\\python\\python313\\site-packages (from pandas->datasets) (2.9.0.post0)\n",
      "Requirement already satisfied: pytz>=2020.1 in c:\\users\\jp\\appdata\\roaming\\python\\python313\\site-packages (from pandas->datasets) (2025.2)\n",
      "Requirement already satisfied: tzdata>=2022.7 in c:\\users\\jp\\appdata\\roaming\\python\\python313\\site-packages (from pandas->datasets) (2025.2)\n",
      "Requirement already satisfied: six>=1.5 in c:\\users\\jp\\appdata\\roaming\\python\\python313\\site-packages (from python-dateutil>=2.8.2->pandas->datasets) (1.17.0)\n",
      "Defaulting to user installation because normal site-packages is not writeable\n",
      "Requirement already satisfied: accelerate in c:\\users\\jp\\appdata\\roaming\\python\\python313\\site-packages (1.10.1)\n",
      "Requirement already satisfied: numpy<3.0.0,>=1.17 in c:\\users\\jp\\appdata\\roaming\\python\\python313\\site-packages (from accelerate) (2.2.6)\n",
      "Requirement already satisfied: packaging>=20.0 in c:\\users\\jp\\appdata\\roaming\\python\\python313\\site-packages (from accelerate) (25.0)\n",
      "Requirement already satisfied: psutil in c:\\users\\jp\\appdata\\roaming\\python\\python313\\site-packages (from accelerate) (7.0.0)\n",
      "Requirement already satisfied: pyyaml in c:\\users\\jp\\appdata\\roaming\\python\\python313\\site-packages (from accelerate) (6.0.2)\n",
      "Requirement already satisfied: torch>=2.0.0 in c:\\users\\jp\\appdata\\roaming\\python\\python313\\site-packages (from accelerate) (2.7.1+cu118)\n",
      "Requirement already satisfied: huggingface_hub>=0.21.0 in c:\\users\\jp\\appdata\\roaming\\python\\python313\\site-packages (from accelerate) (0.34.4)\n",
      "Requirement already satisfied: safetensors>=0.4.3 in c:\\users\\jp\\appdata\\roaming\\python\\python313\\site-packages (from accelerate) (0.6.2)\n",
      "Requirement already satisfied: filelock in c:\\users\\jp\\appdata\\roaming\\python\\python313\\site-packages (from huggingface_hub>=0.21.0->accelerate) (3.19.1)\n",
      "Requirement already satisfied: fsspec>=2023.5.0 in c:\\users\\jp\\appdata\\roaming\\python\\python313\\site-packages (from huggingface_hub>=0.21.0->accelerate) (2025.3.0)\n",
      "Requirement already satisfied: requests in c:\\users\\jp\\appdata\\roaming\\python\\python313\\site-packages (from huggingface_hub>=0.21.0->accelerate) (2.32.3)\n",
      "Requirement already satisfied: tqdm>=4.42.1 in c:\\users\\jp\\appdata\\roaming\\python\\python313\\site-packages (from huggingface_hub>=0.21.0->accelerate) (4.67.1)\n",
      "Requirement already satisfied: typing-extensions>=3.7.4.3 in c:\\users\\jp\\appdata\\roaming\\python\\python313\\site-packages (from huggingface_hub>=0.21.0->accelerate) (4.13.2)\n",
      "Requirement already satisfied: sympy>=1.13.3 in c:\\users\\jp\\appdata\\roaming\\python\\python313\\site-packages (from torch>=2.0.0->accelerate) (1.14.0)\n",
      "Requirement already satisfied: networkx in c:\\users\\jp\\appdata\\roaming\\python\\python313\\site-packages (from torch>=2.0.0->accelerate) (3.5)\n",
      "Requirement already satisfied: jinja2 in c:\\users\\jp\\appdata\\roaming\\python\\python313\\site-packages (from torch>=2.0.0->accelerate) (3.1.6)\n",
      "Requirement already satisfied: setuptools in c:\\users\\jp\\appdata\\roaming\\python\\python313\\site-packages (from torch>=2.0.0->accelerate) (80.9.0)\n",
      "Requirement already satisfied: mpmath<1.4,>=1.1.0 in c:\\users\\jp\\appdata\\roaming\\python\\python313\\site-packages (from sympy>=1.13.3->torch>=2.0.0->accelerate) (1.3.0)\n",
      "Requirement already satisfied: colorama in c:\\users\\jp\\appdata\\roaming\\python\\python313\\site-packages (from tqdm>=4.42.1->huggingface_hub>=0.21.0->accelerate) (0.4.6)\n",
      "Requirement already satisfied: MarkupSafe>=2.0 in c:\\users\\jp\\appdata\\roaming\\python\\python313\\site-packages (from jinja2->torch>=2.0.0->accelerate) (3.0.2)\n",
      "Requirement already satisfied: charset-normalizer<4,>=2 in c:\\users\\jp\\appdata\\roaming\\python\\python313\\site-packages (from requests->huggingface_hub>=0.21.0->accelerate) (3.4.2)\n",
      "Requirement already satisfied: idna<4,>=2.5 in c:\\users\\jp\\appdata\\roaming\\python\\python313\\site-packages (from requests->huggingface_hub>=0.21.0->accelerate) (3.10)\n",
      "Requirement already satisfied: urllib3<3,>=1.21.1 in c:\\users\\jp\\appdata\\roaming\\python\\python313\\site-packages (from requests->huggingface_hub>=0.21.0->accelerate) (2.4.0)\n",
      "Requirement already satisfied: certifi>=2017.4.17 in c:\\users\\jp\\appdata\\roaming\\python\\python313\\site-packages (from requests->huggingface_hub>=0.21.0->accelerate) (2025.4.26)\n",
      "Defaulting to user installation because normal site-packages is not writeable\n",
      "Requirement already satisfied: evaluate in c:\\users\\jp\\appdata\\roaming\\python\\python313\\site-packages (0.4.5)\n",
      "Requirement already satisfied: datasets>=2.0.0 in c:\\users\\jp\\appdata\\roaming\\python\\python313\\site-packages (from evaluate) (4.0.0)\n",
      "Requirement already satisfied: numpy>=1.17 in c:\\users\\jp\\appdata\\roaming\\python\\python313\\site-packages (from evaluate) (2.2.6)\n",
      "Requirement already satisfied: dill in c:\\users\\jp\\appdata\\roaming\\python\\python313\\site-packages (from evaluate) (0.3.8)\n",
      "Requirement already satisfied: pandas in c:\\users\\jp\\appdata\\roaming\\python\\python313\\site-packages (from evaluate) (2.3.2)\n",
      "Requirement already satisfied: requests>=2.19.0 in c:\\users\\jp\\appdata\\roaming\\python\\python313\\site-packages (from evaluate) (2.32.3)\n",
      "Requirement already satisfied: tqdm>=4.62.1 in c:\\users\\jp\\appdata\\roaming\\python\\python313\\site-packages (from evaluate) (4.67.1)\n",
      "Requirement already satisfied: xxhash in c:\\users\\jp\\appdata\\roaming\\python\\python313\\site-packages (from evaluate) (3.5.0)\n",
      "Requirement already satisfied: multiprocess in c:\\users\\jp\\appdata\\roaming\\python\\python313\\site-packages (from evaluate) (0.70.16)\n",
      "Requirement already satisfied: fsspec>=2021.05.0 in c:\\users\\jp\\appdata\\roaming\\python\\python313\\site-packages (from fsspec[http]>=2021.05.0->evaluate) (2025.3.0)\n",
      "Requirement already satisfied: huggingface-hub>=0.7.0 in c:\\users\\jp\\appdata\\roaming\\python\\python313\\site-packages (from evaluate) (0.34.4)\n",
      "Requirement already satisfied: packaging in c:\\users\\jp\\appdata\\roaming\\python\\python313\\site-packages (from evaluate) (25.0)\n",
      "Requirement already satisfied: filelock in c:\\users\\jp\\appdata\\roaming\\python\\python313\\site-packages (from datasets>=2.0.0->evaluate) (3.19.1)\n",
      "Requirement already satisfied: pyarrow>=15.0.0 in c:\\users\\jp\\appdata\\roaming\\python\\python313\\site-packages (from datasets>=2.0.0->evaluate) (21.0.0)\n",
      "Requirement already satisfied: pyyaml>=5.1 in c:\\users\\jp\\appdata\\roaming\\python\\python313\\site-packages (from datasets>=2.0.0->evaluate) (6.0.2)\n",
      "Requirement already satisfied: aiohttp!=4.0.0a0,!=4.0.0a1 in c:\\users\\jp\\appdata\\roaming\\python\\python313\\site-packages (from fsspec[http]>=2021.05.0->evaluate) (3.12.15)\n",
      "Requirement already satisfied: aiohappyeyeballs>=2.5.0 in c:\\users\\jp\\appdata\\roaming\\python\\python313\\site-packages (from aiohttp!=4.0.0a0,!=4.0.0a1->fsspec[http]>=2021.05.0->evaluate) (2.6.1)\n",
      "Requirement already satisfied: aiosignal>=1.4.0 in c:\\users\\jp\\appdata\\roaming\\python\\python313\\site-packages (from aiohttp!=4.0.0a0,!=4.0.0a1->fsspec[http]>=2021.05.0->evaluate) (1.4.0)\n",
      "Requirement already satisfied: attrs>=17.3.0 in c:\\users\\jp\\appdata\\roaming\\python\\python313\\site-packages (from aiohttp!=4.0.0a0,!=4.0.0a1->fsspec[http]>=2021.05.0->evaluate) (25.3.0)\n",
      "Requirement already satisfied: frozenlist>=1.1.1 in c:\\users\\jp\\appdata\\roaming\\python\\python313\\site-packages (from aiohttp!=4.0.0a0,!=4.0.0a1->fsspec[http]>=2021.05.0->evaluate) (1.7.0)\n",
      "Requirement already satisfied: multidict<7.0,>=4.5 in c:\\users\\jp\\appdata\\roaming\\python\\python313\\site-packages (from aiohttp!=4.0.0a0,!=4.0.0a1->fsspec[http]>=2021.05.0->evaluate) (6.6.4)\n",
      "Requirement already satisfied: propcache>=0.2.0 in c:\\users\\jp\\appdata\\roaming\\python\\python313\\site-packages (from aiohttp!=4.0.0a0,!=4.0.0a1->fsspec[http]>=2021.05.0->evaluate) (0.3.2)\n",
      "Requirement already satisfied: yarl<2.0,>=1.17.0 in c:\\users\\jp\\appdata\\roaming\\python\\python313\\site-packages (from aiohttp!=4.0.0a0,!=4.0.0a1->fsspec[http]>=2021.05.0->evaluate) (1.20.1)\n",
      "Requirement already satisfied: idna>=2.0 in c:\\users\\jp\\appdata\\roaming\\python\\python313\\site-packages (from yarl<2.0,>=1.17.0->aiohttp!=4.0.0a0,!=4.0.0a1->fsspec[http]>=2021.05.0->evaluate) (3.10)\n",
      "Requirement already satisfied: typing-extensions>=3.7.4.3 in c:\\users\\jp\\appdata\\roaming\\python\\python313\\site-packages (from huggingface-hub>=0.7.0->evaluate) (4.13.2)\n",
      "Requirement already satisfied: charset-normalizer<4,>=2 in c:\\users\\jp\\appdata\\roaming\\python\\python313\\site-packages (from requests>=2.19.0->evaluate) (3.4.2)\n",
      "Requirement already satisfied: urllib3<3,>=1.21.1 in c:\\users\\jp\\appdata\\roaming\\python\\python313\\site-packages (from requests>=2.19.0->evaluate) (2.4.0)\n",
      "Requirement already satisfied: certifi>=2017.4.17 in c:\\users\\jp\\appdata\\roaming\\python\\python313\\site-packages (from requests>=2.19.0->evaluate) (2025.4.26)\n",
      "Requirement already satisfied: colorama in c:\\users\\jp\\appdata\\roaming\\python\\python313\\site-packages (from tqdm>=4.62.1->evaluate) (0.4.6)\n",
      "Requirement already satisfied: python-dateutil>=2.8.2 in c:\\users\\jp\\appdata\\roaming\\python\\python313\\site-packages (from pandas->evaluate) (2.9.0.post0)\n",
      "Requirement already satisfied: pytz>=2020.1 in c:\\users\\jp\\appdata\\roaming\\python\\python313\\site-packages (from pandas->evaluate) (2025.2)\n",
      "Requirement already satisfied: tzdata>=2022.7 in c:\\users\\jp\\appdata\\roaming\\python\\python313\\site-packages (from pandas->evaluate) (2025.2)\n",
      "Requirement already satisfied: six>=1.5 in c:\\users\\jp\\appdata\\roaming\\python\\python313\\site-packages (from python-dateutil>=2.8.2->pandas->evaluate) (1.17.0)\n"
     ]
    }
   ],
   "source": [
    "# Install required libraries for transformers\n",
    "!pip install transformers\n",
    "!pip install torch\n",
    "!pip install datasets\n",
    "!pip install accelerate\n",
    "!pip install evaluate"
   ]
  },
  {
   "cell_type": "code",
   "execution_count": 9,
   "id": "dba1893e",
   "metadata": {},
   "outputs": [
    {
     "name": "stdout",
     "output_type": "stream",
     "text": [
      "Using device: cuda\n",
      "Data loaded successfully!\n",
      "Train: (4089, 2)\n",
      "Validation: (876, 2)\n",
      "Test: (877, 2)\n",
      "\n",
      "Class distribution:\n",
      "Train: Sentiment\n",
      "neutral     0.535828\n",
      "positive    0.316948\n",
      "negative    0.147224\n",
      "Name: proportion, dtype: float64\n",
      "Val: Sentiment\n",
      "neutral     0.535388\n",
      "positive    0.317352\n",
      "negative    0.147260\n",
      "Name: proportion, dtype: float64\n",
      "Test: Sentiment\n",
      "neutral     0.535918\n",
      "positive    0.316990\n",
      "negative    0.147092\n",
      "Name: proportion, dtype: float64\n"
     ]
    }
   ],
   "source": [
    "import pandas as pd\n",
    "import numpy as np\n",
    "import torch\n",
    "from transformers import (\n",
    "    AutoTokenizer, \n",
    "    AutoModelForSequenceClassification,\n",
    "    TrainingArguments, \n",
    "    Trainer,\n",
    "    DataCollatorWithPadding\n",
    ")\n",
    "from datasets import Dataset\n",
    "from sklearn.metrics import accuracy_score, f1_score, classification_report\n",
    "import warnings\n",
    "warnings.filterwarnings('ignore')\n",
    "\n",
    "# Check if CUDA is available\n",
    "device = torch.device('cuda' if torch.cuda.is_available() else 'cpu')\n",
    "print(f\"Using device: {device}\")\n",
    "\n",
    "# Load your data\n",
    "train_df = pd.read_csv('../data/train.csv')\n",
    "val_df = pd.read_csv('../data/val.csv')\n",
    "test_df = pd.read_csv('../data/test.csv')\n",
    "\n",
    "print(\"Data loaded successfully!\")\n",
    "print(f\"Train: {train_df.shape}\")\n",
    "print(f\"Validation: {val_df.shape}\")\n",
    "print(f\"Test: {test_df.shape}\")\n",
    "\n",
    "# Check class distribution\n",
    "print(\"\\nClass distribution:\")\n",
    "print(\"Train:\", train_df['Sentiment'].value_counts(normalize=True))\n",
    "print(\"Val:\", val_df['Sentiment'].value_counts(normalize=True))\n",
    "print(\"Test:\", test_df['Sentiment'].value_counts(normalize=True))"
   ]
  },
  {
   "cell_type": "markdown",
   "id": "b432ebf8",
   "metadata": {},
   "source": [
    "##### 1.2 Data Preprocessing"
   ]
  },
  {
   "cell_type": "code",
   "execution_count": 10,
   "id": "a46e6e13",
   "metadata": {},
   "outputs": [
    {
     "name": "stdout",
     "output_type": "stream",
     "text": [
      "Loaded tokenizer: ProsusAI/finbert\n",
      "Vocabulary size: 30522\n",
      "Max sequence length: 512\n",
      "Label mapping: {'negative': 0, 'neutral': 1, 'positive': 2}\n",
      "Preparing training data...\n",
      "Preparing validation data...\n",
      "Preparing test data...\n",
      "\n",
      "Data preparation complete!\n",
      "Training samples: 4089\n",
      "Validation samples: 876\n",
      "Test samples: 877\n",
      "\n",
      "Tokenization example:\n",
      "Original: Costco: A Premier Retail Dividend Play https://t.co/Fa5cnh2t0t $COST\n",
      "Tokens: ['cost', '##co', ':', 'a', 'premier', 'retail', 'divide', '##nd', 'play', 'https']...\n",
      "Token count: 27\n"
     ]
    }
   ],
   "source": [
    "# Load FinBERT tokenizer\n",
    "model_name = \"ProsusAI/finbert\"  # Pre-trained FinBERT model\n",
    "tokenizer = AutoTokenizer.from_pretrained(model_name)\n",
    "\n",
    "print(f\"Loaded tokenizer: {model_name}\")\n",
    "print(f\"Vocabulary size: {tokenizer.vocab_size}\")\n",
    "print(f\"Max sequence length: {tokenizer.model_max_length}\")\n",
    "\n",
    "# Create label mapping for sentiment classes\n",
    "label_map = {\n",
    "    'negative': 0,\n",
    "    'neutral': 1, \n",
    "    'positive': 2\n",
    "}\n",
    "\n",
    "# Reverse mapping for predictions\n",
    "id2label = {v: k for k, v in label_map.items()}\n",
    "print(f\"Label mapping: {label_map}\")\n",
    "\n",
    "# Function to tokenize and prepare data\n",
    "def prepare_data(texts, labels):\n",
    "    \"\"\"\n",
    "    Tokenize texts and prepare for FinBERT training\n",
    "    \"\"\"\n",
    "    # Tokenize texts\n",
    "    tokenized = tokenizer(\n",
    "        texts,\n",
    "        truncation=True,\n",
    "        padding=True,\n",
    "        max_length=512,  # FinBERT max length\n",
    "        return_tensors=\"pt\"\n",
    "    )\n",
    "    \n",
    "    # Convert labels to numeric\n",
    "    numeric_labels = [label_map[label] for label in labels]\n",
    "    \n",
    "    return tokenized, numeric_labels\n",
    "\n",
    "# Prepare training data\n",
    "print(\"Preparing training data...\")\n",
    "train_texts = train_df['Sentence'].tolist()\n",
    "train_labels = train_df['Sentiment'].tolist()\n",
    "train_tokenized, train_numeric_labels = prepare_data(train_texts, train_labels)\n",
    "\n",
    "# Prepare validation data\n",
    "print(\"Preparing validation data...\")\n",
    "val_texts = val_df['Sentence'].tolist()\n",
    "val_labels = val_df['Sentiment'].tolist()\n",
    "val_tokenized, val_numeric_labels = prepare_data(val_texts, val_labels)\n",
    "\n",
    "# Prepare test data\n",
    "print(\"Preparing test data...\")\n",
    "test_texts = test_df['Sentence'].tolist()\n",
    "test_labels = test_df['Sentiment'].tolist()\n",
    "test_tokenized, test_numeric_labels = prepare_data(test_texts, test_labels)\n",
    "\n",
    "print(f\"\\nData preparation complete!\")\n",
    "print(f\"Training samples: {len(train_texts)}\")\n",
    "print(f\"Validation samples: {len(val_texts)}\")\n",
    "print(f\"Test samples: {len(test_texts)}\")\n",
    "\n",
    "# Check tokenization example\n",
    "print(f\"\\nTokenization example:\")\n",
    "example_text = train_texts[0]\n",
    "example_tokens = tokenizer.tokenize(example_text)\n",
    "print(f\"Original: {example_text}\")\n",
    "print(f\"Tokens: {example_tokens[:10]}...\")  # Show first 10 tokens\n",
    "print(f\"Token count: {len(example_tokens)}\")"
   ]
  },
  {
   "cell_type": "markdown",
   "id": "e3eca5a0",
   "metadata": {},
   "source": [
    "##### 1.3 Tokenization"
   ]
  },
  {
   "cell_type": "code",
   "execution_count": 11,
   "id": "89a9b9e1",
   "metadata": {},
   "outputs": [
    {
     "name": "stdout",
     "output_type": "stream",
     "text": [
      "Datasets created successfully!\n",
      "Training dataset: 4089 samples\n",
      "Validation dataset: 876 samples\n",
      "Test dataset: 877 samples\n",
      "\n",
      "Dataset features:\n",
      "{'input_ids': List(Value('int32')), 'attention_mask': List(Value('int8')), 'labels': Value('int64')}\n",
      "\n",
      "Example training sample:\n",
      "Input IDs length: 93\n",
      "Attention mask length: 93\n",
      "Label: 2 (positive)\n",
      "\n",
      "Data collator ready for batching!\n"
     ]
    }
   ],
   "source": [
    "# Create datasets for training\n",
    "from datasets import Dataset\n",
    "\n",
    "# Convert tensors to lists for dataset creation\n",
    "train_dataset = Dataset.from_dict({\n",
    "    'input_ids': train_tokenized['input_ids'].tolist(),\n",
    "    'attention_mask': train_tokenized['attention_mask'].tolist(),\n",
    "    'labels': train_numeric_labels\n",
    "})\n",
    "\n",
    "# Create validation dataset\n",
    "val_dataset = Dataset.from_dict({\n",
    "    'input_ids': val_tokenized['input_ids'].tolist(),\n",
    "    'attention_mask': val_tokenized['attention_mask'].tolist(),\n",
    "    'labels': val_numeric_labels\n",
    "})\n",
    "\n",
    "# Create test dataset\n",
    "test_dataset = Dataset.from_dict({\n",
    "    'input_ids': test_tokenized['input_ids'].tolist(),\n",
    "    'attention_mask': test_tokenized['attention_mask'].tolist(),\n",
    "    'labels': test_numeric_labels\n",
    "})\n",
    "\n",
    "print(\"Datasets created successfully!\")\n",
    "print(f\"Training dataset: {len(train_dataset)} samples\")\n",
    "print(f\"Validation dataset: {len(val_dataset)} samples\")\n",
    "print(f\"Test dataset: {len(test_dataset)} samples\")\n",
    "\n",
    "# Check dataset structure\n",
    "print(f\"\\nDataset features:\")\n",
    "print(train_dataset.features)\n",
    "\n",
    "# Example from training dataset\n",
    "print(f\"\\nExample training sample:\")\n",
    "example = train_dataset[0]\n",
    "print(f\"Input IDs length: {len(example['input_ids'])}\")\n",
    "print(f\"Attention mask length: {len(example['attention_mask'])}\")\n",
    "print(f\"Label: {example['labels']} ({id2label[example['labels']]})\")\n",
    "\n",
    "# Data collator for batching\n",
    "data_collator = DataCollatorWithPadding(tokenizer=tokenizer)\n",
    "print(f\"\\nData collator ready for batching!\")"
   ]
  },
  {
   "cell_type": "markdown",
   "id": "1fd6a794",
   "metadata": {},
   "source": [
    "### 2. Model Configuration"
   ]
  },
  {
   "cell_type": "markdown",
   "id": "c979b923",
   "metadata": {},
   "source": [
    "##### 2.1 FinBERT Model Selection"
   ]
  },
  {
   "cell_type": "code",
   "execution_count": 12,
   "id": "5c56d601",
   "metadata": {},
   "outputs": [
    {
     "name": "stdout",
     "output_type": "stream",
     "text": [
      "Loaded FinBERT model: ProsusAI/finbert\n",
      "Model parameters: 109,484,547\n",
      "Number of labels: 3\n",
      "Model moved to: cuda\n",
      "\n",
      "Model configuration:\n",
      "Hidden size: 768\n",
      "Number of layers: 12\n",
      "Number of attention heads: 12\n"
     ]
    }
   ],
   "source": [
    "# Load pre-trained FinBERT model\n",
    "model = AutoModelForSequenceClassification.from_pretrained(\n",
    "    model_name,\n",
    "    num_labels=3,  # 3 sentiment classes\n",
    "    id2label=id2label,\n",
    "    label2id=label_map\n",
    ")\n",
    "\n",
    "print(f\"Loaded FinBERT model: {model_name}\")\n",
    "print(f\"Model parameters: {model.num_parameters():,}\")\n",
    "print(f\"Number of labels: {model.num_labels}\")\n",
    "\n",
    "# Move model to device (GPU/CPU)\n",
    "model = model.to(device)\n",
    "print(f\"Model moved to: {device}\")\n",
    "\n",
    "# Check model configuration\n",
    "print(f\"\\nModel configuration:\")\n",
    "print(f\"Hidden size: {model.config.hidden_size}\")\n",
    "print(f\"Number of layers: {model.config.num_hidden_layers}\")\n",
    "print(f\"Number of attention heads: {model.config.num_attention_heads}\")"
   ]
  },
  {
   "cell_type": "markdown",
   "id": "b02f3be1",
   "metadata": {},
   "source": [
    "##### 2.2 Hyperparameter Setup"
   ]
  },
  {
   "cell_type": "code",
   "execution_count": 13,
   "id": "9f836efc",
   "metadata": {},
   "outputs": [
    {
     "name": "stdout",
     "output_type": "stream",
     "text": [
      "Training arguments configured!\n",
      "Training epochs: 3\n",
      "Batch size: 16\n",
      "Learning rate: 2e-05\n",
      "Warmup steps: 500\n",
      "Evaluation every: 500 steps\n"
     ]
    }
   ],
   "source": [
    "# Define training arguments\n",
    "training_args = TrainingArguments(\n",
    "    output_dir=\"./finbert_financial_sentiment\",  # Model save directory\n",
    "    num_train_epochs=3,                          # Number of training epochs\n",
    "    per_device_train_batch_size=16,              # Batch size for training\n",
    "    per_device_eval_batch_size=16,               # Batch size for evaluation\n",
    "    warmup_steps=500,                            # Learning rate warmup\n",
    "    weight_decay=0.01,                           # L2 regularization\n",
    "    logging_dir=\"./logs\",                        # Logging directory\n",
    "    logging_steps=100,                           # Log every 100 steps\n",
    "    eval_strategy=\"steps\",                       # Evaluate during training\n",
    "    eval_steps=500,                              # Evaluate every 500 steps\n",
    "    save_strategy=\"steps\",                       # Save strategy\n",
    "    save_steps=1000,                             # Save model every 1000 steps\n",
    "    load_best_model_at_end=True,                 # Load best model at end\n",
    "    metric_for_best_model=\"eval_accuracy\",       # Use accuracy for best model\n",
    "    greater_is_better=True,                      # Higher accuracy is better\n",
    "    learning_rate=2e-5,                          # Learning rate\n",
    "    save_total_limit=2,                          # Keep only 2 best models\n",
    "    report_to=\"none\",                            # Disable all external logging (including wandb)\n",
    ")\n",
    "\n",
    "print(\"Training arguments configured!\")\n",
    "print(f\"Training epochs: {training_args.num_train_epochs}\")\n",
    "print(f\"Batch size: {training_args.per_device_train_batch_size}\")\n",
    "print(f\"Learning rate: {training_args.learning_rate}\")\n",
    "print(f\"Warmup steps: {training_args.warmup_steps}\")\n",
    "print(f\"Evaluation every: {training_args.eval_steps} steps\")"
   ]
  },
  {
   "cell_type": "markdown",
   "id": "f037ada5",
   "metadata": {},
   "source": [
    "##### 2.3 Training Configuration"
   ]
  },
  {
   "cell_type": "code",
   "execution_count": 14,
   "id": "600c9098",
   "metadata": {},
   "outputs": [
    {
     "name": "stdout",
     "output_type": "stream",
     "text": [
      "Trainer configured successfully!\n",
      "Training dataset: 4089 samples\n",
      "Validation dataset: 876 samples\n",
      "Model: ProsusAI/finbert\n",
      "Device: cuda\n",
      "\n",
      "Model ready for training!\n",
      "Total parameters: 109,484,547\n",
      "Trainable parameters: 109,484,547\n"
     ]
    }
   ],
   "source": [
    "import os\n",
    "os.environ[\"WANDB_DISABLED\"] = \"true\"\n",
    "\n",
    "# Define evaluation metrics\n",
    "def compute_metrics(eval_pred):\n",
    "    \"\"\"\n",
    "    Compute accuracy and F1 score for evaluation\n",
    "    \"\"\"\n",
    "    predictions, labels = eval_pred\n",
    "    predictions = np.argmax(predictions, axis=1)\n",
    "    \n",
    "    accuracy = accuracy_score(labels, predictions)\n",
    "    f1_weighted = f1_score(labels, predictions, average='weighted')\n",
    "    f1_macro = f1_score(labels, predictions, average='macro')\n",
    "    \n",
    "    return {\n",
    "        'accuracy': accuracy,\n",
    "        'f1_weighted': f1_weighted,\n",
    "        'f1_macro': f1_macro\n",
    "    }\n",
    "\n",
    "# Create trainer\n",
    "trainer = Trainer(\n",
    "    model=model,\n",
    "    args=training_args,\n",
    "    train_dataset=train_dataset,\n",
    "    eval_dataset=val_dataset,\n",
    "    tokenizer=tokenizer,\n",
    "    data_collator=data_collator,\n",
    "    compute_metrics=compute_metrics,\n",
    ")\n",
    "\n",
    "print(\"Trainer configured successfully!\")\n",
    "print(f\"Training dataset: {len(train_dataset)} samples\")\n",
    "print(f\"Validation dataset: {len(val_dataset)} samples\")\n",
    "print(f\"Model: {model_name}\")\n",
    "print(f\"Device: {device}\")\n",
    "\n",
    "# Check model before training\n",
    "print(f\"\\nModel ready for training!\")\n",
    "print(f\"Total parameters: {model.num_parameters():,}\")\n",
    "print(f\"Trainable parameters: {sum(p.numel() for p in model.parameters() if p.requires_grad):,}\")"
   ]
  },
  {
   "cell_type": "markdown",
   "id": "20e67d1f",
   "metadata": {},
   "source": [
    "### 3. Fine-tuning Process"
   ]
  },
  {
   "cell_type": "markdown",
   "id": "ec396d4c",
   "metadata": {},
   "source": [
    "##### 3.1 Training Setup"
   ]
  },
  {
   "cell_type": "code",
   "execution_count": 17,
   "id": "8ffb8569",
   "metadata": {},
   "outputs": [
    {
     "name": "stdout",
     "output_type": "stream",
     "text": [
      "Starting FinBERT fine-tuning...\n",
      "Training on 4089 samples\n",
      "Validating on 876 samples\n",
      "Expected training time: 30-60 minutes on RTX 3060 Ti\n",
      "\n",
      "Training configuration:\n",
      "  - Epochs: 3\n",
      "  - Batch size: 16\n",
      "  - Learning rate: 2e-05\n",
      "  - Warmup steps: 500\n",
      "  - Evaluation frequency: Every 500 steps\n",
      "  - Device: cuda\n",
      "  - Total parameters: 109,484,547\n",
      "Training setup complete - ready to start training!\n"
     ]
    }
   ],
   "source": [
    "\n",
    "print(\"Starting FinBERT fine-tuning...\")\n",
    "print(f\"Training on {len(train_dataset)} samples\")\n",
    "print(f\"Validating on {len(val_dataset)} samples\")\n",
    "print(f\"Expected training time: 30-60 minutes on RTX 3060 Ti\")\n",
    "\n",
    "# Training configuration summary\n",
    "print(f\"\\nTraining configuration:\")\n",
    "print(f\"  - Epochs: {training_args.num_train_epochs}\")\n",
    "print(f\"  - Batch size: {training_args.per_device_train_batch_size}\")\n",
    "print(f\"  - Learning rate: {training_args.learning_rate}\")\n",
    "print(f\"  - Warmup steps: {training_args.warmup_steps}\")\n",
    "print(f\"  - Evaluation frequency: Every {training_args.eval_steps} steps\")\n",
    "print(f\"  - Device: {device}\")\n",
    "print(f\"  - Total parameters: {model.num_parameters():,}\")\n",
    "\n",
    "print(\"Training setup complete - ready to start training!\")"
   ]
  },
  {
   "cell_type": "markdown",
   "id": "155b615f",
   "metadata": {},
   "source": [
    "##### 3.2 Training Execution"
   ]
  },
  {
   "cell_type": "code",
   "execution_count": 18,
   "id": "6b1b06bd",
   "metadata": {},
   "outputs": [
    {
     "name": "stdout",
     "output_type": "stream",
     "text": [
      "Starting training execution...\n"
     ]
    },
    {
     "data": {
      "text/html": [
       "\n",
       "    <div>\n",
       "      \n",
       "      <progress value='768' max='768' style='width:300px; height:20px; vertical-align: middle;'></progress>\n",
       "      [768/768 02:11, Epoch 3/3]\n",
       "    </div>\n",
       "    <table border=\"1\" class=\"dataframe\">\n",
       "  <thead>\n",
       " <tr style=\"text-align: left;\">\n",
       "      <th>Step</th>\n",
       "      <th>Training Loss</th>\n",
       "      <th>Validation Loss</th>\n",
       "      <th>Accuracy</th>\n",
       "      <th>F1 Weighted</th>\n",
       "      <th>F1 Macro</th>\n",
       "    </tr>\n",
       "  </thead>\n",
       "  <tbody>\n",
       "    <tr>\n",
       "      <td>500</td>\n",
       "      <td>0.189000</td>\n",
       "      <td>0.602537</td>\n",
       "      <td>0.787671</td>\n",
       "      <td>0.785697</td>\n",
       "      <td>0.713922</td>\n",
       "    </tr>\n",
       "  </tbody>\n",
       "</table><p>"
      ],
      "text/plain": [
       "<IPython.core.display.HTML object>"
      ]
     },
     "metadata": {},
     "output_type": "display_data"
    },
    {
     "name": "stdout",
     "output_type": "stream",
     "text": [
      "Training execution completed!\n",
      "Model saved to: ./finbert_financial_sentiment/\n",
      "Final model saved to: ./finbert_final_model/\n"
     ]
    }
   ],
   "source": [
    "# Start training\n",
    "print(\"Starting training execution...\")\n",
    "trainer.train()\n",
    "\n",
    "print(\"Training execution completed!\")\n",
    "print(\"Model saved to: ./finbert_financial_sentiment/\")\n",
    "\n",
    "# Save the final model\n",
    "trainer.save_model(\"./finbert_final_model\")\n",
    "tokenizer.save_pretrained(\"./finbert_final_model\")\n",
    "print(\"Final model saved to: ./finbert_final_model/\")"
   ]
  },
  {
   "cell_type": "markdown",
   "id": "d7cf69f7",
   "metadata": {},
   "source": [
    "##### 3.3 Monitoring Training"
   ]
  },
  {
   "cell_type": "code",
   "execution_count": 19,
   "id": "9a4b06c9",
   "metadata": {},
   "outputs": [
    {
     "name": "stdout",
     "output_type": "stream",
     "text": [
      "Training monitoring completed!\n",
      "Training artifacts:\n",
      "  - Best model: ./finbert_final_model/\n",
      "  - Checkpoints: ./finbert_financial_sentiment/\n",
      "  - Logs: ./logs/\n",
      "\n",
      "File verification:\n",
      "  - Final model exists: True\n",
      "  - Checkpoints exist: True\n",
      "  - Logs exist: False\n",
      "  - Number of checkpoints: 1\n",
      "Training phase complete - ready for evaluation!\n"
     ]
    }
   ],
   "source": [
    "# Training monitoring summary\n",
    "print(\"Training monitoring completed!\")\n",
    "print(f\"Training artifacts:\")\n",
    "print(f\"  - Best model: ./finbert_final_model/\")\n",
    "print(f\"  - Checkpoints: ./finbert_financial_sentiment/\")\n",
    "print(f\"  - Logs: ./logs/\")\n",
    "\n",
    "# Verify saved files\n",
    "import os\n",
    "print(f\"\\nFile verification:\")\n",
    "print(f\"  - Final model exists: {os.path.exists('./finbert_final_model')}\")\n",
    "print(f\"  - Checkpoints exist: {os.path.exists('./finbert_financial_sentiment')}\")\n",
    "print(f\"  - Logs exist: {os.path.exists('./logs')}\")\n",
    "\n",
    "# List checkpoints if they exist\n",
    "if os.path.exists('./finbert_financial_sentiment'):\n",
    "    checkpoints = [d for d in os.listdir('./finbert_financial_sentiment') if d.startswith('checkpoint')]\n",
    "    print(f\"  - Number of checkpoints: {len(checkpoints)}\")\n",
    "\n",
    "print(\"Training phase complete - ready for evaluation!\")"
   ]
  },
  {
   "cell_type": "markdown",
   "id": "4d24cd01",
   "metadata": {},
   "source": [
    "### 4. Evaluation & Results"
   ]
  },
  {
   "cell_type": "markdown",
   "id": "fe70c7d5",
   "metadata": {},
   "source": [
    "##### 4.1 Model Evaluation"
   ]
  },
  {
   "cell_type": "code",
   "execution_count": 20,
   "id": "5bd2661c",
   "metadata": {},
   "outputs": [
    {
     "name": "stdout",
     "output_type": "stream",
     "text": [
      "Best model loaded successfully!\n",
      "Evaluating on validation set...\n"
     ]
    },
    {
     "data": {
      "text/html": [],
      "text/plain": [
       "<IPython.core.display.HTML object>"
      ]
     },
     "metadata": {},
     "output_type": "display_data"
    },
    {
     "name": "stdout",
     "output_type": "stream",
     "text": [
      "Validation Results:\n",
      "  Accuracy: 0.765\n",
      "  F1-Weighted: 0.761\n",
      "  F1-Macro: 0.674\n",
      "\n",
      "Evaluating on test set...\n",
      "Test Results:\n",
      "  Accuracy: 0.808\n",
      "  F1-Weighted: 0.804\n",
      "  F1-Macro: 0.740\n",
      "\n",
      "Detailed Classification Report:\n",
      "              precision    recall  f1-score   support\n",
      "\n",
      "    negative       0.55      0.46      0.50       129\n",
      "     neutral       0.83      0.86      0.85       470\n",
      "    positive       0.86      0.88      0.87       278\n",
      "\n",
      "    accuracy                           0.81       877\n",
      "   macro avg       0.75      0.73      0.74       877\n",
      "weighted avg       0.80      0.81      0.80       877\n",
      "\n"
     ]
    }
   ],
   "source": [
    "# Load the best model\n",
    "best_model = AutoModelForSequenceClassification.from_pretrained(\"./finbert_final_model\")\n",
    "best_model = best_model.to(device)\n",
    "print(\"Best model loaded successfully!\")\n",
    "\n",
    "# Evaluate on validation set\n",
    "print(\"Evaluating on validation set...\")\n",
    "val_results = trainer.evaluate()\n",
    "print(f\"Validation Results:\")\n",
    "print(f\"  Accuracy: {val_results['eval_accuracy']:.3f}\")\n",
    "print(f\"  F1-Weighted: {val_results['eval_f1_weighted']:.3f}\")\n",
    "print(f\"  F1-Macro: {val_results['eval_f1_macro']:.3f}\")\n",
    "\n",
    "# Evaluate on test set\n",
    "print(\"\\nEvaluating on test set...\")\n",
    "test_predictions = trainer.predict(test_dataset)\n",
    "test_metrics = test_predictions.metrics\n",
    "print(f\"Test Results:\")\n",
    "print(f\"  Accuracy: {test_metrics['test_accuracy']:.3f}\")\n",
    "print(f\"  F1-Weighted: {test_metrics['test_f1_weighted']:.3f}\")\n",
    "print(f\"  F1-Macro: {test_metrics['test_f1_macro']:.3f}\")\n",
    "\n",
    "# Detailed classification report\n",
    "from sklearn.metrics import classification_report\n",
    "test_preds = np.argmax(test_predictions.predictions, axis=1)\n",
    "test_true = test_dataset['labels']\n",
    "\n",
    "print(f\"\\nDetailed Classification Report:\")\n",
    "print(classification_report(test_true, test_preds, target_names=['negative', 'neutral', 'positive']))"
   ]
  },
  {
   "cell_type": "markdown",
   "id": "321b28c2",
   "metadata": {},
   "source": [
    "##### 4.2 Performance Comparison"
   ]
  },
  {
   "cell_type": "code",
   "execution_count": 22,
   "id": "7852125e",
   "metadata": {},
   "outputs": [
    {
     "name": "stdout",
     "output_type": "stream",
     "text": [
      "=== PHASE PERFORMANCE COMPARISON ===\n",
      "Phase                     Accuracy   Improvement  Method\n",
      "----------------------------------------------------------------------\n",
      "Phase 1 (Baseline)        0.674      0.000+++++++ TF-IDF + Logistic Regression (default)\n",
      "Phase 2 (Classic ML)      0.713      0.039+++++++ Feature Engineering + Stacking Classifier\n",
      "Phase 3 (FinBERT)         0.808      0.134+++++++ FinBERT Fine-tuning\n",
      "\n",
      "=== IMPROVEMENT ANALYSIS ===\n",
      "Phase 1 → Phase 2: +0.039 (+3.9%)\n",
      "Phase 2 → Phase 3: +0.095 (+9.5%)\n",
      "Phase 1 → Phase 3: +0.134 (+13.4%)\n",
      "\n",
      "🏆 FINAL RESULTS:\n",
      "Best accuracy achieved: 80.8%\n",
      "Total improvement from baseline: +13.4%\n"
     ]
    }
   ],
   "source": [
    "# Compile all phase results\n",
    "phase_comparison = {\n",
    "    'Phase 1 (Baseline)': {\n",
    "        'accuracy': 0.674,\n",
    "        'method': 'TF-IDF + Logistic Regression (default)',\n",
    "        'improvement': 0.0\n",
    "    },\n",
    "    'Phase 2 (Classic ML)': {\n",
    "        'accuracy': 0.713,\n",
    "        'method': 'Feature Engineering + Stacking Classifier',\n",
    "        'improvement': 0.039\n",
    "    },\n",
    "    'Phase 3 (FinBERT)': {\n",
    "        'accuracy': 0.808,\n",
    "        'method': 'FinBERT Fine-tuning',\n",
    "        'improvement': 0.134\n",
    "    }\n",
    "}\n",
    "\n",
    "print(\"=== PHASE PERFORMANCE COMPARISON ===\")\n",
    "print(f\"{'Phase':<25} {'Accuracy':<10} {'Improvement':<12} {'Method'}\")\n",
    "print(\"-\" * 70)\n",
    "for phase, results in phase_comparison.items():\n",
    "    print(f\"{phase:<25} {results['accuracy']:<10.3f} {results['improvement']:+<12.3f} {results['method']}\")\n",
    "\n",
    "# Calculate improvements\n",
    "print(f\"\\n=== IMPROVEMENT ANALYSIS ===\")\n",
    "print(f\"Phase 1 → Phase 2: +{phase_comparison['Phase 2 (Classic ML)']['improvement']:.3f} (+{phase_comparison['Phase 2 (Classic ML)']['improvement']*100:.1f}%)\")\n",
    "print(f\"Phase 2 → Phase 3: +{phase_comparison['Phase 3 (FinBERT)']['accuracy'] - phase_comparison['Phase 2 (Classic ML)']['accuracy']:.3f} (+{(phase_comparison['Phase 3 (FinBERT)']['accuracy'] - phase_comparison['Phase 2 (Classic ML)']['accuracy'])*100:.1f}%)\")\n",
    "print(f\"Phase 1 → Phase 3: +{phase_comparison['Phase 3 (FinBERT)']['improvement']:.3f} (+{phase_comparison['Phase 3 (FinBERT)']['improvement']*100:.1f}%)\")\n",
    "\n",
    "print(f\"\\n🏆 FINAL RESULTS:\")\n",
    "print(f\"Best accuracy achieved: {phase_comparison['Phase 3 (FinBERT)']['accuracy']:.1%}\")\n",
    "print(f\"Total improvement from baseline: +{phase_comparison['Phase 3 (FinBERT)']['improvement']*100:.1f}%\")"
   ]
  },
  {
   "cell_type": "markdown",
   "id": "7a1c065b",
   "metadata": {},
   "source": [
    "##### 4.3 Error Analysis"
   ]
  },
  {
   "cell_type": "code",
   "execution_count": 24,
   "id": "886105ff",
   "metadata": {},
   "outputs": [
    {
     "name": "stdout",
     "output_type": "stream",
     "text": [
      "=== ERROR ANALYSIS ===\n"
     ]
    },
    {
     "data": {
      "text/html": [],
      "text/plain": [
       "<IPython.core.display.HTML object>"
      ]
     },
     "metadata": {},
     "output_type": "display_data"
    },
    {
     "data": {
      "image/png": "[encoded data removed]",
      "text/plain": [
       "<Figure size 800x600 with 2 Axes>"
      ]
     },
     "metadata": {},
     "output_type": "display_data"
    },
    {
     "name": "stdout",
     "output_type": "stream",
     "text": [
      "\n",
      "=== ERROR ANALYSIS BY CLASS ===\n",
      "NEGATIVE class:\n",
      "  - Samples: 129\n",
      "  - Accuracy: 0.326\n",
      "  - Errors: 87\n",
      "  - Error examples:\n",
      "    True: negative, Predicted: neutral\n",
      "    Text: Operating income was EUR -24.9 mn , including EUR 15.3 mn of restructuring expenses ....\n",
      "    True: negative, Predicted: neutral\n",
      "    Text: Short more $FAZ for all who don't know that means markets will tank now :-p...\n",
      "    True: negative, Predicted: neutral\n",
      "    Text: The operations to be sold include manufacturing units in Finland , France , Poland and Turkey , as w...\n",
      "\n",
      "NEUTRAL class:\n",
      "  - Samples: 469\n",
      "  - Accuracy: 0.821\n",
      "  - Errors: 84\n",
      "  - Error examples:\n",
      "    True: neutral, Predicted: positive\n",
      "    Text: The workforce will be reduced also in the Amsterdam office , in the Netherlands ....\n",
      "    True: neutral, Predicted: negative\n",
      "    Text: Sales in Finland rose by 3.9 % and international growth was 0.7 % ....\n",
      "    True: neutral, Predicted: negative\n",
      "    Text: Utah 's capital wanted to be the next U.S. headquarters of Amer Sports Corp. , a ski-equipment compa...\n",
      "\n",
      "POSITIVE class:\n",
      "  - Samples: 278\n",
      "  - Accuracy: 0.874\n",
      "  - Errors: 35\n",
      "  - Error examples:\n",
      "    True: positive, Predicted: neutral\n",
      "    Text: Short more $FAZ for all who don't know that means markets will tank now :-p...\n",
      "    True: positive, Predicted: neutral\n",
      "    Text: The operations to be sold include manufacturing units in Finland , France , Poland and Turkey , as w...\n",
      "    True: positive, Predicted: neutral\n",
      "    Text: longed $AMZN 300 @ 189.82...\n",
      "\n",
      "=== PERFORMANCE COMPARISON WITH PHASE 2 ===\n",
      "Phase 2 (Classic ML) - Best individual model:\n",
      "  - Accuracy: 70.9% (Logistic Regression)\n",
      "  - Negative F1: ~7% (very poor)\n",
      "\n",
      "Phase 3 (FinBERT):\n",
      "  - Accuracy: 80.8% (test set)\n",
      "  - Negative F1: 50% (7x improvement!)\n",
      "  - Overall improvement: +9.9 percentage points\n",
      "\n",
      "=== KEY INSIGHTS ===\n",
      "1. Context understanding: FinBERT captures financial context\n",
      "2. Negative class breakthrough: 7% → 50% F1-score\n",
      "3. Robust performance: Consistent across validation and test\n",
      "4. Business value: Much better risk detection capability\n"
     ]
    }
   ],
   "source": [
    "# Analyze prediction errors\n",
    "print(\"=== ERROR ANALYSIS ===\")\n",
    "\n",
    "# Get predictions and true labels\n",
    "val_predictions = trainer.predict(val_dataset)\n",
    "val_preds = np.argmax(val_predictions.predictions, axis=1)\n",
    "val_true = np.array(val_dataset['labels'])  # Convert to numpy array\n",
    "\n",
    "# Create confusion matrix\n",
    "from sklearn.metrics import confusion_matrix\n",
    "import seaborn as sns\n",
    "import matplotlib.pyplot as plt\n",
    "\n",
    "cm = confusion_matrix(val_true, val_preds)\n",
    "plt.figure(figsize=(8, 6))\n",
    "sns.heatmap(cm, annot=True, fmt='d', cmap='Blues')\n",
    "plt.title('FinBERT Confusion Matrix - Validation Set')\n",
    "plt.ylabel('True Label')\n",
    "plt.xlabel('Predicted Label')\n",
    "plt.show()\n",
    "\n",
    "# Analyze errors by class\n",
    "print(f\"\\n=== ERROR ANALYSIS BY CLASS ===\")\n",
    "for i, class_name in enumerate(['negative', 'neutral', 'positive']):\n",
    "    class_mask = val_true == i\n",
    "    class_preds = val_preds[class_mask]\n",
    "    class_true = val_true[class_mask]\n",
    "    \n",
    "    if len(class_true) > 0:\n",
    "        class_accuracy = (class_preds == class_true).mean()\n",
    "        print(f\"{class_name.upper()} class:\")\n",
    "        print(f\"  - Samples: {len(class_true)}\")\n",
    "        print(f\"  - Accuracy: {class_accuracy:.3f}\")\n",
    "        print(f\"  - Errors: {len(class_true) - (class_preds == class_true).sum()}\")\n",
    "        \n",
    "        # Show some error examples\n",
    "        error_mask = class_preds != class_true\n",
    "        if error_mask.sum() > 0:\n",
    "            error_indices = np.where(error_mask)[0]\n",
    "            print(f\"  - Error examples:\")\n",
    "            for j in range(min(3, len(error_indices))):\n",
    "                idx = error_indices[j]\n",
    "                true_label = id2label[class_true[idx]]\n",
    "                pred_label = id2label[class_preds[idx]]\n",
    "                text = val_texts[idx]\n",
    "                print(f\"    True: {true_label}, Predicted: {pred_label}\")\n",
    "                print(f\"    Text: {text[:100]}...\")\n",
    "        print()\n",
    "\n",
    "# Compare with Phase 2 performance\n",
    "print(f\"=== PERFORMANCE COMPARISON WITH PHASE 2 ===\")\n",
    "print(f\"Phase 2 (Classic ML) - Best individual model:\")\n",
    "print(f\"  - Accuracy: 70.9% (Logistic Regression)\")\n",
    "print(f\"  - Negative F1: ~7% (very poor)\")\n",
    "\n",
    "print(f\"\\nPhase 3 (FinBERT):\")\n",
    "print(f\"  - Accuracy: 80.8% (test set)\")\n",
    "print(f\"  - Negative F1: 50% (7x improvement!)\")\n",
    "print(f\"  - Overall improvement: +9.9 percentage points\")\n",
    "\n",
    "# Key insights\n",
    "print(f\"\\n=== KEY INSIGHTS ===\")\n",
    "print(f\"1. Context understanding: FinBERT captures financial context\")\n",
    "print(f\"2. Negative class breakthrough: 7% → 50% F1-score\")\n",
    "print(f\"3. Robust performance: Consistent across validation and test\")\n",
    "print(f\"4. Business value: Much better risk detection capability\")"
   ]
  }
 ],
 "metadata": {
  "kernelspec": {
   "display_name": "Python 3",
   "language": "python",
   "name": "python3"
  },
  "language_info": {
   "codemirror_mode": {
    "name": "ipython",
    "version": 3
   },
   "file_extension": ".py",
   "mimetype": "text/x-python",
   "name": "python",
   "nbconvert_exporter": "python",
   "pygments_lexer": "ipython3",
   "version": "3.13.3"
  }
 },
 "nbformat": 4,
 "nbformat_minor": 5
}
